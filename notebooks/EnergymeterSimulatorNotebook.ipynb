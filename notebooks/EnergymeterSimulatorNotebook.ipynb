{
 "cells": [
  {
   "cell_type": "code",
   "execution_count": 1,
   "id": "89aeab59-4f58-4c9a-8216-106fed23b79c",
   "metadata": {
    "microsoft": {
     "language": "python",
     "language_group": "synapse_pyspark"
    }
   },
   "outputs": [
    {
     "data": {
      "application/vnd.livy.statement-meta+json": {
       "execution_finish_time": "2025-08-30T21:44:28.934914Z",
       "execution_start_time": "2025-08-30T21:44:28.5577373Z",
       "livy_statement_state": "available",
       "normalized_state": "finished",
       "parent_msg_id": "0c8022c4-22ed-4c7e-9eea-b4cdd5f9dcbe",
       "queued_time": "2025-08-30T21:44:19.6067945Z",
       "session_id": "d02f07ed-22f8-44a4-a308-8a948eeb118b",
       "session_start_time": "2025-08-30T21:44:19.6078781Z",
       "spark_pool": null,
       "state": "finished",
       "statement_id": 3,
       "statement_ids": [
        3
       ]
      },
      "text/plain": [
       "StatementMeta(, d02f07ed-22f8-44a4-a308-8a948eeb118b, 3, Finished, Available, Finished)"
      ]
     },
     "metadata": {},
     "output_type": "display_data"
    }
   ],
   "source": [
    "# Welcome to an Energymeter data generator\n",
    "\n",
    "## This is based on: https://github.com/microsoft/FabConRTITutorial/blob/main/notebook/Generate_synthetic_web_events.ipynb"
   ]
  },
  {
   "cell_type": "code",
   "execution_count": 2,
   "id": "e853bd5a-177b-477b-b3f7-e8920e3159d0",
   "metadata": {
    "microsoft": {
     "language": "python",
     "language_group": "synapse_pyspark"
    }
   },
   "outputs": [
    {
     "data": {
      "application/vnd.livy.statement-meta+json": {
       "execution_finish_time": "2025-08-30T21:46:47.1196421Z",
       "execution_start_time": "2025-08-30T21:44:28.937005Z",
       "livy_statement_state": "available",
       "normalized_state": "finished",
       "parent_msg_id": "7b6100c4-4def-45e4-a7a9-31e790f2f76b",
       "queued_time": "2025-08-30T21:44:19.6092965Z",
       "session_id": "d02f07ed-22f8-44a4-a308-8a948eeb118b",
       "session_start_time": null,
       "spark_pool": null,
       "state": "finished",
       "statement_id": 4,
       "statement_ids": [
        4
       ]
      },
      "text/plain": [
       "StatementMeta(, d02f07ed-22f8-44a4-a308-8a948eeb118b, 4, Finished, Available, Finished)"
      ]
     },
     "metadata": {},
     "output_type": "display_data"
    },
    {
     "name": "stdout",
     "output_type": "stream",
     "text": [
      "Python 3.11.8\n",
      "\u001b[31mERROR: pip's dependency resolver does not currently take into account all the packages that are installed. This behaviour is the source of the following dependency conflicts.\n",
      "nni 3.0 requires filelock<3.12, but you have filelock 3.13.1 which is incompatible.\n",
      "fsspec-wrapper 0.1.15 requires PyJWT>=2.6.0, but you have pyjwt 2.4.0 which is incompatible.\n",
      "datasets 2.19.1 requires fsspec[http]<=2024.3.1,>=2023.1.0, but you have fsspec 2024.6.1 which is incompatible.\u001b[0m\u001b[31m\n",
      "\u001b[0m"
     ]
    }
   ],
   "source": [
    "! python --version\n",
    "\n",
    "! pip install azure-eventhub==5.15.0 pyodbc==5.2.0 --upgrade --force --quiet"
   ]
  },
  {
   "cell_type": "code",
   "execution_count": null,
   "id": "5626c2eb-16d7-45a0-89e4-0fdcbb6272f8",
   "metadata": {
    "microsoft": {
     "language": "python",
     "language_group": "synapse_pyspark"
    }
   },
   "outputs": [
    {
     "data": {
      "application/vnd.livy.statement-meta+json": {
       "execution_finish_time": "2025-08-30T21:46:47.3692967Z",
       "execution_start_time": "2025-08-30T21:46:47.1217975Z",
       "livy_statement_state": "available",
       "normalized_state": "finished",
       "parent_msg_id": "c6a3368c-8a63-4175-bb47-24ababcb8747",
       "queued_time": "2025-08-30T21:44:19.6109689Z",
       "session_id": "d02f07ed-22f8-44a4-a308-8a948eeb118b",
       "session_start_time": null,
       "spark_pool": null,
       "state": "finished",
       "statement_id": 5,
       "statement_ids": [
        5
       ]
      },
      "text/plain": [
       "StatementMeta(, d02f07ed-22f8-44a4-a308-8a948eeb118b, 5, Finished, Available, Finished)"
      ]
     },
     "metadata": {},
     "output_type": "display_data"
    }
   ],
   "source": [
    "import json\n",
    "from azure.eventhub import EventHubProducerClient, EventData\n",
    "import os\n",
    "import socket\n",
    "\n",
    "eventHubNameevents = \"\" # event hub name\n",
    "eventHubConnString = \"\" # event hub namespace connection string\n",
    "\n",
    "producer_events = EventHubProducerClient.from_connection_string(conn_str=eventHubConnString, eventhub_name=eventHubNameevents)\n",
    "\n",
    "hostname = socket.gethostname()"
   ]
  },
  {
   "cell_type": "markdown",
   "id": "36821cfb-35a3-4968-8901-4ef9bb156ab3",
   "metadata": {
    "nteract": {
     "transient": {
      "deleting": false
     }
    }
   },
   "source": [
    "#### Sample energy meter message\n",
    "\n",
    "```\n",
    "UNS: iotedger/nld/helmond/building1/line1/ccSIM\n",
    "deviceId: WagoCCSIM\n",
    "key: voltage | reactive | current\n",
    "value: 226.98 | -0.603 | 0.02\n",
    "timestamp: 2025-08-30T20:35:17.696Z\n",
    "```"
   ]
  },
  {
   "cell_type": "code",
   "execution_count": 5,
   "id": "65b6bf72-d4a0-4fd3-96f2-4252b84a1947",
   "metadata": {
    "microsoft": {
     "language": "python",
     "language_group": "synapse_pyspark"
    }
   },
   "outputs": [
    {
     "data": {
      "application/vnd.livy.statement-meta+json": {
       "execution_finish_time": "2025-08-30T21:46:48.4432767Z",
       "execution_start_time": "2025-08-30T21:46:48.1950935Z",
       "livy_statement_state": "available",
       "normalized_state": "finished",
       "parent_msg_id": "f73f928d-6243-4b3a-8033-7304fe827eb8",
       "queued_time": "2025-08-30T21:44:19.614534Z",
       "session_id": "d02f07ed-22f8-44a4-a308-8a948eeb118b",
       "session_start_time": null,
       "spark_pool": null,
       "state": "finished",
       "statement_id": 7,
       "statement_ids": [
        7
       ]
      },
      "text/plain": [
       "StatementMeta(, d02f07ed-22f8-44a4-a308-8a948eeb118b, 7, Finished, Available, Finished)"
      ]
     },
     "metadata": {},
     "output_type": "display_data"
    }
   ],
   "source": [
    "from enum import Enum\n",
    "import datetime\n",
    "import time\n",
    "import random\n",
    "\n",
    "# class syntax\n",
    "class EVENT_TYPE(Enum):\n",
    "    voltage = 1\n",
    "    reactive = 2\n",
    "    current = 3\n",
    "\n",
    "def generateVoltageEvent():\n",
    "    event = {}\n",
    "    event[\"UNS\"] = \"iotedger/nld/helmond/building1/line1/ccSIM\"\n",
    "    event[\"deviceId\"] = \"WagoCCSIM\"\n",
    "    event[\"timestamp\"] = datetime.datetime.now().isoformat() + \"Z\"\n",
    "    event[\"key\"] = EVENT_TYPE.voltage.name   \n",
    "    event[\"value\"] = str(random.randint(22500, 23500) / 100) # \"226.98\"\n",
    "    return event\n",
    "\n",
    "def generateCurrentEvent():\n",
    "    event = {}\n",
    "    event[\"UNS\"] = \"iotedger/nld/helmond/building1/line1/ccSIM\"\n",
    "    event[\"deviceId\"] = \"WagoCCSIM\"\n",
    "    event[\"timestamp\"] = datetime.datetime.now().isoformat() + \"Z\"\n",
    "    event[\"key\"] = EVENT_TYPE.current.name   \n",
    "    event[\"value\"] = \"0.02\"\n",
    "    return event\n",
    "\n",
    "def generateReactiveEvent():\n",
    "    event = {}\n",
    "    event[\"UNS\"] = \"iotedger/nld/helmond/building1/line1/ccSIM\"\n",
    "    event[\"deviceId\"] = \"WagoCCSIM\"\n",
    "    event[\"timestamp\"] = datetime.datetime.now().isoformat() + \"Z\"\n",
    "    event[\"key\"] = EVENT_TYPE.reactive.name   \n",
    "    event[\"value\"] = str(random.randint(-650, -550) / 100) # \"-0.603\"\n",
    "    return event"
   ]
  },
  {
   "cell_type": "code",
   "execution_count": 6,
   "id": "1e138d17-c960-4ec0-894c-d18bc95ab9b1",
   "metadata": {
    "microsoft": {
     "language": "python",
     "language_group": "synapse_pyspark"
    }
   },
   "outputs": [
    {
     "data": {
      "application/vnd.livy.statement-meta+json": {
       "execution_finish_time": "2025-08-30T21:46:48.7037032Z",
       "execution_start_time": "2025-08-30T21:46:48.4454676Z",
       "livy_statement_state": "available",
       "normalized_state": "finished",
       "parent_msg_id": "a6f37c7b-4554-4b6e-8382-e5e03b885172",
       "queued_time": "2025-08-30T21:44:19.6163388Z",
       "session_id": "d02f07ed-22f8-44a4-a308-8a948eeb118b",
       "session_start_time": null,
       "spark_pool": null,
       "state": "finished",
       "statement_id": 8,
       "statement_ids": [
        8
       ]
      },
      "text/plain": [
       "StatementMeta(, d02f07ed-22f8-44a4-a308-8a948eeb118b, 8, Finished, Available, Finished)"
      ]
     },
     "metadata": {},
     "output_type": "display_data"
    }
   ],
   "source": [
    "def sendToEventsHub(jsonEvent, producer):\n",
    "    eventString = json.dumps(jsonEvent)\n",
    "    print(eventString) \n",
    "    event_data_batch = producer.create_batch() \n",
    "    event_data_batch.add(EventData(eventString)) \n",
    "    producer.send_batch(event_data_batch)\n",
    "\n",
    "def generateEvents():\n",
    "    try:\n",
    "        while True:\n",
    "            impressionEvent = generateVoltageEvent()    \n",
    "            sendToEventsHub(impressionEvent, producer_events)\n",
    "            time.sleep(0.2)\n",
    "\n",
    "            impressionEvent = generateCurrentEvent()    \n",
    "            sendToEventsHub(impressionEvent, producer_events)\n",
    "            time.sleep(0.2)\n",
    "\n",
    "            impressionEvent = generateReactiveEvent()    \n",
    "            sendToEventsHub(impressionEvent, producer_events)\n",
    "            time.sleep(0.2)\n",
    "\n",
    "            time.sleep(1)\n",
    "    except KeyboardInterrupt:\n",
    "        producer_events.close()"
   ]
  },
  {
   "cell_type": "code",
   "execution_count": 7,
   "id": "aefcb80b-c4ed-40e7-858c-2369bb0a15e8",
   "metadata": {
    "microsoft": {
     "language": "python",
     "language_group": "synapse_pyspark"
    }
   },
   "outputs": [
    {
     "data": {
      "application/vnd.livy.statement-meta+json": {
       "execution_finish_time": null,
       "execution_start_time": "2025-08-30T21:46:48.7058498Z",
       "livy_statement_state": "running",
       "normalized_state": "running",
       "parent_msg_id": "c6b8f341-1449-41ae-9bac-1a26f593e2ad",
       "queued_time": "2025-08-30T21:44:19.6180341Z",
       "session_id": "d02f07ed-22f8-44a4-a308-8a948eeb118b",
       "session_start_time": null,
       "spark_pool": null,
       "state": "submitted",
       "statement_id": 9,
       "statement_ids": [
        9
       ]
      },
      "text/plain": [
       "StatementMeta(, d02f07ed-22f8-44a4-a308-8a948eeb118b, 9, Submitted, Running, Running)"
      ]
     },
     "metadata": {},
     "output_type": "display_data"
    },
    {
     "name": "stdout",
     "output_type": "stream",
     "text": [
      "2025-08-30 21:46:48.799550\n",
      "{\"UNS\": \"iotedger/nld/helmond/building1/line1/ccSIM\", \"deviceId\": \"WagoCCSIM\", \"timestamp\": \"2025-08-30T21:46:48.799972Z\", \"key\": \"voltage\", \"value\": \"231.22\"}\n",
      "{\"UNS\": \"iotedger/nld/helmond/building1/line1/ccSIM\", \"deviceId\": \"WagoCCSIM\", \"timestamp\": \"2025-08-30T21:46:49.521332Z\", \"key\": \"current\", \"value\": \"0.02\"}\n",
      "{\"UNS\": \"iotedger/nld/helmond/building1/line1/ccSIM\", \"deviceId\": \"WagoCCSIM\", \"timestamp\": \"2025-08-30T21:46:49.644023Z\", \"key\": \"reactive\", \"value\": \"-6.21\"}\n",
      "{\"UNS\": \"iotedger/nld/helmond/building1/line1/ccSIM\", \"deviceId\": \"WagoCCSIM\", \"timestamp\": \"2025-08-30T21:46:50.767500Z\", \"key\": \"voltage\", \"value\": \"233.04\"}\n",
      "{\"UNS\": \"iotedger/nld/helmond/building1/line1/ccSIM\", \"deviceId\": \"WagoCCSIM\", \"timestamp\": \"2025-08-30T21:46:50.900471Z\", \"key\": \"current\", \"value\": \"0.02\"}\n",
      "{\"UNS\": \"iotedger/nld/helmond/building1/line1/ccSIM\", \"deviceId\": \"WagoCCSIM\", \"timestamp\": \"2025-08-30T21:46:51.019829Z\", \"key\": \"reactive\", \"value\": \"-6.35\"}\n",
      "{\"UNS\": \"iotedger/nld/helmond/building1/line1/ccSIM\", \"deviceId\": \"WagoCCSIM\", \"timestamp\": \"2025-08-30T21:46:52.136832Z\", \"key\": \"voltage\", \"value\": \"226.56\"}\n",
      "{\"UNS\": \"iotedger/nld/helmond/building1/line1/ccSIM\", \"deviceId\": \"WagoCCSIM\", \"timestamp\": \"2025-08-30T21:46:52.254625Z\", \"key\": \"current\", \"value\": \"0.02\"}\n",
      "{\"UNS\": \"iotedger/nld/helmond/building1/line1/ccSIM\", \"deviceId\": \"WagoCCSIM\", \"timestamp\": \"2025-08-30T21:46:52.373783Z\", \"key\": \"reactive\", \"value\": \"-5.86\"}\n",
      "{\"UNS\": \"iotedger/nld/helmond/building1/line1/ccSIM\", \"deviceId\": \"WagoCCSIM\", \"timestamp\": \"2025-08-30T21:46:53.493141Z\", \"key\": \"voltage\", \"value\": \"225.29\"}\n",
      "{\"UNS\": \"iotedger/nld/helmond/building1/line1/ccSIM\", \"deviceId\": \"WagoCCSIM\", \"timestamp\": \"2025-08-30T21:46:53.611800Z\", \"key\": \"current\", \"value\": \"0.02\"}\n",
      "{\"UNS\": \"iotedger/nld/helmond/building1/line1/ccSIM\", \"deviceId\": \"WagoCCSIM\", \"timestamp\": \"2025-08-30T21:46:53.729412Z\", \"key\": \"reactive\", \"value\": \"-5.92\"}\n",
      "{\"UNS\": \"iotedger/nld/helmond/building1/line1/ccSIM\", \"deviceId\": \"WagoCCSIM\", \"timestamp\": \"2025-08-30T21:46:54.849716Z\", \"key\": \"voltage\", \"value\": \"225.54\"}\n",
      "{\"UNS\": \"iotedger/nld/helmond/building1/line1/ccSIM\", \"deviceId\": \"WagoCCSIM\", \"timestamp\": \"2025-08-30T21:46:55.039157Z\", \"key\": \"current\", \"value\": \"0.02\"}\n",
      "{\"UNS\": \"iotedger/nld/helmond/building1/line1/ccSIM\", \"deviceId\": \"WagoCCSIM\", \"timestamp\": \"2025-08-30T21:46:55.156172Z\", \"key\": \"reactive\", \"value\": \"-6.02\"}\n",
      "{\"UNS\": \"iotedger/nld/helmond/building1/line1/ccSIM\", \"deviceId\": \"WagoCCSIM\", \"timestamp\": \"2025-08-30T21:46:56.273500Z\", \"key\": \"voltage\", \"value\": \"228.03\"}\n",
      "{\"UNS\": \"iotedger/nld/helmond/building1/line1/ccSIM\", \"deviceId\": \"WagoCCSIM\", \"timestamp\": \"2025-08-30T21:46:56.392251Z\", \"key\": \"current\", \"value\": \"0.02\"}\n",
      "{\"UNS\": \"iotedger/nld/helmond/building1/line1/ccSIM\", \"deviceId\": \"WagoCCSIM\", \"timestamp\": \"2025-08-30T21:46:56.511248Z\", \"key\": \"reactive\", \"value\": \"-5.92\"}\n",
      "{\"UNS\": \"iotedger/nld/helmond/building1/line1/ccSIM\", \"deviceId\": \"WagoCCSIM\", \"timestamp\": \"2025-08-30T21:46:57.628498Z\", \"key\": \"voltage\", \"value\": \"233.73\"}\n",
      "{\"UNS\": \"iotedger/nld/helmond/building1/line1/ccSIM\", \"deviceId\": \"WagoCCSIM\", \"timestamp\": \"2025-08-30T21:46:57.745727Z\", \"key\": \"current\", \"value\": \"0.02\"}\n",
      "{\"UNS\": \"iotedger/nld/helmond/building1/line1/ccSIM\", \"deviceId\": \"WagoCCSIM\", \"timestamp\": \"2025-08-30T21:46:57.865550Z\", \"key\": \"reactive\", \"value\": \"-5.52\"}\n",
      "{\"UNS\": \"iotedger/nld/helmond/building1/line1/ccSIM\", \"deviceId\": \"WagoCCSIM\", \"timestamp\": \"2025-08-30T21:46:58.985384Z\", \"key\": \"voltage\", \"value\": \"229.67\"}\n",
      "{\"UNS\": \"iotedger/nld/helmond/building1/line1/ccSIM\", \"deviceId\": \"WagoCCSIM\", \"timestamp\": \"2025-08-30T21:46:59.102394Z\", \"key\": \"current\", \"value\": \"0.02\"}\n",
      "{\"UNS\": \"iotedger/nld/helmond/building1/line1/ccSIM\", \"deviceId\": \"WagoCCSIM\", \"timestamp\": \"2025-08-30T21:46:59.227298Z\", \"key\": \"reactive\", \"value\": \"-6.11\"}\n",
      "{\"UNS\": \"iotedger/nld/helmond/building1/line1/ccSIM\", \"deviceId\": \"WagoCCSIM\", \"timestamp\": \"2025-08-30T21:47:00.346397Z\", \"key\": \"voltage\", \"value\": \"234.5\"}\n",
      "{\"UNS\": \"iotedger/nld/helmond/building1/line1/ccSIM\", \"deviceId\": \"WagoCCSIM\", \"timestamp\": \"2025-08-30T21:47:00.469747Z\", \"key\": \"current\", \"value\": \"0.02\"}\n",
      "{\"UNS\": \"iotedger/nld/helmond/building1/line1/ccSIM\", \"deviceId\": \"WagoCCSIM\", \"timestamp\": \"2025-08-30T21:47:00.586728Z\", \"key\": \"reactive\", \"value\": \"-6.41\"}\n",
      "{\"UNS\": \"iotedger/nld/helmond/building1/line1/ccSIM\", \"deviceId\": \"WagoCCSIM\", \"timestamp\": \"2025-08-30T21:47:01.704586Z\", \"key\": \"voltage\", \"value\": \"225.3\"}\n",
      "{\"UNS\": \"iotedger/nld/helmond/building1/line1/ccSIM\", \"deviceId\": \"WagoCCSIM\", \"timestamp\": \"2025-08-30T21:47:01.823582Z\", \"key\": \"current\", \"value\": \"0.02\"}\n",
      "{\"UNS\": \"iotedger/nld/helmond/building1/line1/ccSIM\", \"deviceId\": \"WagoCCSIM\", \"timestamp\": \"2025-08-30T21:47:01.942250Z\", \"key\": \"reactive\", \"value\": \"-5.78\"}\n",
      "{\"UNS\": \"iotedger/nld/helmond/building1/line1/ccSIM\", \"deviceId\": \"WagoCCSIM\", \"timestamp\": \"2025-08-30T21:47:03.059440Z\", \"key\": \"voltage\", \"value\": \"225.12\"}\n",
      "{\"UNS\": \"iotedger/nld/helmond/building1/line1/ccSIM\", \"deviceId\": \"WagoCCSIM\", \"timestamp\": \"2025-08-30T21:47:03.176473Z\", \"key\": \"current\", \"value\": \"0.02\"}\n",
      "{\"UNS\": \"iotedger/nld/helmond/building1/line1/ccSIM\", \"deviceId\": \"WagoCCSIM\", \"timestamp\": \"2025-08-30T21:47:03.295542Z\", \"key\": \"reactive\", \"value\": \"-5.75\"}\n",
      "{\"UNS\": \"iotedger/nld/helmond/building1/line1/ccSIM\", \"deviceId\": \"WagoCCSIM\", \"timestamp\": \"2025-08-30T21:47:04.414856Z\", \"key\": \"voltage\", \"value\": \"233.37\"}\n",
      "{\"UNS\": \"iotedger/nld/helmond/building1/line1/ccSIM\", \"deviceId\": \"WagoCCSIM\", \"timestamp\": \"2025-08-30T21:47:04.532538Z\", \"key\": \"current\", \"value\": \"0.02\"}\n",
      "{\"UNS\": \"iotedger/nld/helmond/building1/line1/ccSIM\", \"deviceId\": \"WagoCCSIM\", \"timestamp\": \"2025-08-30T21:47:04.652794Z\", \"key\": \"reactive\", \"value\": \"-6.37\"}\n",
      "{\"UNS\": \"iotedger/nld/helmond/building1/line1/ccSIM\", \"deviceId\": \"WagoCCSIM\", \"timestamp\": \"2025-08-30T21:47:05.785654Z\", \"key\": \"voltage\", \"value\": \"229.98\"}\n",
      "{\"UNS\": \"iotedger/nld/helmond/building1/line1/ccSIM\", \"deviceId\": \"WagoCCSIM\", \"timestamp\": \"2025-08-30T21:47:05.904603Z\", \"key\": \"current\", \"value\": \"0.02\"}\n",
      "{\"UNS\": \"iotedger/nld/helmond/building1/line1/ccSIM\", \"deviceId\": \"WagoCCSIM\", \"timestamp\": \"2025-08-30T21:47:06.027858Z\", \"key\": \"reactive\", \"value\": \"-5.7\"}\n",
      "{\"UNS\": \"iotedger/nld/helmond/building1/line1/ccSIM\", \"deviceId\": \"WagoCCSIM\", \"timestamp\": \"2025-08-30T21:47:07.145345Z\", \"key\": \"voltage\", \"value\": \"227.45\"}\n",
      "{\"UNS\": \"iotedger/nld/helmond/building1/line1/ccSIM\", \"deviceId\": \"WagoCCSIM\", \"timestamp\": \"2025-08-30T21:47:07.264429Z\", \"key\": \"current\", \"value\": \"0.02\"}\n",
      "{\"UNS\": \"iotedger/nld/helmond/building1/line1/ccSIM\", \"deviceId\": \"WagoCCSIM\", \"timestamp\": \"2025-08-30T21:47:07.383264Z\", \"key\": \"reactive\", \"value\": \"-6.05\"}\n",
      "{\"UNS\": \"iotedger/nld/helmond/building1/line1/ccSIM\", \"deviceId\": \"WagoCCSIM\", \"timestamp\": \"2025-08-30T21:47:08.500412Z\", \"key\": \"voltage\", \"value\": \"233.77\"}\n",
      "{\"UNS\": \"iotedger/nld/helmond/building1/line1/ccSIM\", \"deviceId\": \"WagoCCSIM\", \"timestamp\": \"2025-08-30T21:47:08.619320Z\", \"key\": \"current\", \"value\": \"0.02\"}\n",
      "{\"UNS\": \"iotedger/nld/helmond/building1/line1/ccSIM\", \"deviceId\": \"WagoCCSIM\", \"timestamp\": \"2025-08-30T21:47:08.738130Z\", \"key\": \"reactive\", \"value\": \"-6.1\"}\n",
      "{\"UNS\": \"iotedger/nld/helmond/building1/line1/ccSIM\", \"deviceId\": \"WagoCCSIM\", \"timestamp\": \"2025-08-30T21:47:09.857184Z\", \"key\": \"voltage\", \"value\": \"230.72\"}\n",
      "{\"UNS\": \"iotedger/nld/helmond/building1/line1/ccSIM\", \"deviceId\": \"WagoCCSIM\", \"timestamp\": \"2025-08-30T21:47:09.974128Z\", \"key\": \"current\", \"value\": \"0.02\"}\n",
      "{\"UNS\": \"iotedger/nld/helmond/building1/line1/ccSIM\", \"deviceId\": \"WagoCCSIM\", \"timestamp\": \"2025-08-30T21:47:10.091421Z\", \"key\": \"reactive\", \"value\": \"-6.02\"}\n",
      "{\"UNS\": \"iotedger/nld/helmond/building1/line1/ccSIM\", \"deviceId\": \"WagoCCSIM\", \"timestamp\": \"2025-08-30T21:47:11.210512Z\", \"key\": \"voltage\", \"value\": \"228.14\"}\n",
      "{\"UNS\": \"iotedger/nld/helmond/building1/line1/ccSIM\", \"deviceId\": \"WagoCCSIM\", \"timestamp\": \"2025-08-30T21:47:11.332995Z\", \"key\": \"current\", \"value\": \"0.02\"}\n",
      "{\"UNS\": \"iotedger/nld/helmond/building1/line1/ccSIM\", \"deviceId\": \"WagoCCSIM\", \"timestamp\": \"2025-08-30T21:47:11.455205Z\", \"key\": \"reactive\", \"value\": \"-5.57\"}\n",
      "{\"UNS\": \"iotedger/nld/helmond/building1/line1/ccSIM\", \"deviceId\": \"WagoCCSIM\", \"timestamp\": \"2025-08-30T21:47:12.572753Z\", \"key\": \"voltage\", \"value\": \"233.8\"}\n",
      "{\"UNS\": \"iotedger/nld/helmond/building1/line1/ccSIM\", \"deviceId\": \"WagoCCSIM\", \"timestamp\": \"2025-08-30T21:47:12.691645Z\", \"key\": \"current\", \"value\": \"0.02\"}\n",
      "{\"UNS\": \"iotedger/nld/helmond/building1/line1/ccSIM\", \"deviceId\": \"WagoCCSIM\", \"timestamp\": \"2025-08-30T21:47:12.810464Z\", \"key\": \"reactive\", \"value\": \"-6.12\"}\n",
      "{\"UNS\": \"iotedger/nld/helmond/building1/line1/ccSIM\", \"deviceId\": \"WagoCCSIM\", \"timestamp\": \"2025-08-30T21:47:13.928689Z\", \"key\": \"voltage\", \"value\": \"229.73\"}\n",
      "{\"UNS\": \"iotedger/nld/helmond/building1/line1/ccSIM\", \"deviceId\": \"WagoCCSIM\", \"timestamp\": \"2025-08-30T21:47:14.046238Z\", \"key\": \"current\", \"value\": \"0.02\"}\n",
      "{\"UNS\": \"iotedger/nld/helmond/building1/line1/ccSIM\", \"deviceId\": \"WagoCCSIM\", \"timestamp\": \"2025-08-30T21:47:14.165660Z\", \"key\": \"reactive\", \"value\": \"-5.53\"}\n",
      "{\"UNS\": \"iotedger/nld/helmond/building1/line1/ccSIM\", \"deviceId\": \"WagoCCSIM\", \"timestamp\": \"2025-08-30T21:47:15.284299Z\", \"key\": \"voltage\", \"value\": \"225.65\"}\n",
      "{\"UNS\": \"iotedger/nld/helmond/building1/line1/ccSIM\", \"deviceId\": \"WagoCCSIM\", \"timestamp\": \"2025-08-30T21:47:15.402018Z\", \"key\": \"current\", \"value\": \"0.02\"}\n",
      "{\"UNS\": \"iotedger/nld/helmond/building1/line1/ccSIM\", \"deviceId\": \"WagoCCSIM\", \"timestamp\": \"2025-08-30T21:47:15.519299Z\", \"key\": \"reactive\", \"value\": \"-6.17\"}\n",
      "{\"UNS\": \"iotedger/nld/helmond/building1/line1/ccSIM\", \"deviceId\": \"WagoCCSIM\", \"timestamp\": \"2025-08-30T21:47:16.638346Z\", \"key\": \"voltage\", \"value\": \"228.47\"}\n",
      "{\"UNS\": \"iotedger/nld/helmond/building1/line1/ccSIM\", \"deviceId\": \"WagoCCSIM\", \"timestamp\": \"2025-08-30T21:47:16.757206Z\", \"key\": \"current\", \"value\": \"0.02\"}\n",
      "{\"UNS\": \"iotedger/nld/helmond/building1/line1/ccSIM\", \"deviceId\": \"WagoCCSIM\", \"timestamp\": \"2025-08-30T21:47:16.874214Z\", \"key\": \"reactive\", \"value\": \"-5.8\"}\n",
      "{\"UNS\": \"iotedger/nld/helmond/building1/line1/ccSIM\", \"deviceId\": \"WagoCCSIM\", \"timestamp\": \"2025-08-30T21:47:18.007249Z\", \"key\": \"voltage\", \"value\": \"233.29\"}\n",
      "{\"UNS\": \"iotedger/nld/helmond/building1/line1/ccSIM\", \"deviceId\": \"WagoCCSIM\", \"timestamp\": \"2025-08-30T21:47:18.126273Z\", \"key\": \"current\", \"value\": \"0.02\"}\n",
      "{\"UNS\": \"iotedger/nld/helmond/building1/line1/ccSIM\", \"deviceId\": \"WagoCCSIM\", \"timestamp\": \"2025-08-30T21:47:18.245383Z\", \"key\": \"reactive\", \"value\": \"-5.55\"}\n",
      "{\"UNS\": \"iotedger/nld/helmond/building1/line1/ccSIM\", \"deviceId\": \"WagoCCSIM\", \"timestamp\": \"2025-08-30T21:47:19.362475Z\", \"key\": \"voltage\", \"value\": \"233.58\"}\n",
      "{\"UNS\": \"iotedger/nld/helmond/building1/line1/ccSIM\", \"deviceId\": \"WagoCCSIM\", \"timestamp\": \"2025-08-30T21:47:19.479439Z\", \"key\": \"current\", \"value\": \"0.02\"}\n",
      "{\"UNS\": \"iotedger/nld/helmond/building1/line1/ccSIM\", \"deviceId\": \"WagoCCSIM\", \"timestamp\": \"2025-08-30T21:47:19.598491Z\", \"key\": \"reactive\", \"value\": \"-6.25\"}\n",
      "{\"UNS\": \"iotedger/nld/helmond/building1/line1/ccSIM\", \"deviceId\": \"WagoCCSIM\", \"timestamp\": \"2025-08-30T21:47:20.717562Z\", \"key\": \"voltage\", \"value\": \"226.38\"}\n",
      "{\"UNS\": \"iotedger/nld/helmond/building1/line1/ccSIM\", \"deviceId\": \"WagoCCSIM\", \"timestamp\": \"2025-08-30T21:47:20.834726Z\", \"key\": \"current\", \"value\": \"0.02\"}\n",
      "{\"UNS\": \"iotedger/nld/helmond/building1/line1/ccSIM\", \"deviceId\": \"WagoCCSIM\", \"timestamp\": \"2025-08-30T21:47:20.952069Z\", \"key\": \"reactive\", \"value\": \"-5.92\"}\n",
      "{\"UNS\": \"iotedger/nld/helmond/building1/line1/ccSIM\", \"deviceId\": \"WagoCCSIM\", \"timestamp\": \"2025-08-30T21:47:22.071026Z\", \"key\": \"voltage\", \"value\": \"226.98\"}\n",
      "{\"UNS\": \"iotedger/nld/helmond/building1/line1/ccSIM\", \"deviceId\": \"WagoCCSIM\", \"timestamp\": \"2025-08-30T21:47:22.190248Z\", \"key\": \"current\", \"value\": \"0.02\"}\n",
      "{\"UNS\": \"iotedger/nld/helmond/building1/line1/ccSIM\", \"deviceId\": \"WagoCCSIM\", \"timestamp\": \"2025-08-30T21:47:22.308179Z\", \"key\": \"reactive\", \"value\": \"-6.21\"}\n",
      "{\"UNS\": \"iotedger/nld/helmond/building1/line1/ccSIM\", \"deviceId\": \"WagoCCSIM\", \"timestamp\": \"2025-08-30T21:47:23.425402Z\", \"key\": \"voltage\", \"value\": \"234.25\"}\n",
      "{\"UNS\": \"iotedger/nld/helmond/building1/line1/ccSIM\", \"deviceId\": \"WagoCCSIM\", \"timestamp\": \"2025-08-30T21:47:23.553318Z\", \"key\": \"current\", \"value\": \"0.02\"}\n",
      "{\"UNS\": \"iotedger/nld/helmond/building1/line1/ccSIM\", \"deviceId\": \"WagoCCSIM\", \"timestamp\": \"2025-08-30T21:47:23.672330Z\", \"key\": \"reactive\", \"value\": \"-6.2\"}\n",
      "{\"UNS\": \"iotedger/nld/helmond/building1/line1/ccSIM\", \"deviceId\": \"WagoCCSIM\", \"timestamp\": \"2025-08-30T21:47:24.789423Z\", \"key\": \"voltage\", \"value\": \"230.53\"}\n",
      "{\"UNS\": \"iotedger/nld/helmond/building1/line1/ccSIM\", \"deviceId\": \"WagoCCSIM\", \"timestamp\": \"2025-08-30T21:47:24.906994Z\", \"key\": \"current\", \"value\": \"0.02\"}\n",
      "{\"UNS\": \"iotedger/nld/helmond/building1/line1/ccSIM\", \"deviceId\": \"WagoCCSIM\", \"timestamp\": \"2025-08-30T21:47:25.025934Z\", \"key\": \"reactive\", \"value\": \"-5.77\"}\n",
      "{\"UNS\": \"iotedger/nld/helmond/building1/line1/ccSIM\", \"deviceId\": \"WagoCCSIM\", \"timestamp\": \"2025-08-30T21:47:26.144742Z\", \"key\": \"voltage\", \"value\": \"232.12\"}\n",
      "{\"UNS\": \"iotedger/nld/helmond/building1/line1/ccSIM\", \"deviceId\": \"WagoCCSIM\", \"timestamp\": \"2025-08-30T21:47:26.261961Z\", \"key\": \"current\", \"value\": \"0.02\"}\n",
      "{\"UNS\": \"iotedger/nld/helmond/building1/line1/ccSIM\", \"deviceId\": \"WagoCCSIM\", \"timestamp\": \"2025-08-30T21:47:26.379351Z\", \"key\": \"reactive\", \"value\": \"-6.08\"}\n",
      "{\"UNS\": \"iotedger/nld/helmond/building1/line1/ccSIM\", \"deviceId\": \"WagoCCSIM\", \"timestamp\": \"2025-08-30T21:47:27.498496Z\", \"key\": \"voltage\", \"value\": \"227.81\"}\n",
      "{\"UNS\": \"iotedger/nld/helmond/building1/line1/ccSIM\", \"deviceId\": \"WagoCCSIM\", \"timestamp\": \"2025-08-30T21:47:27.617378Z\", \"key\": \"current\", \"value\": \"0.02\"}\n",
      "{\"UNS\": \"iotedger/nld/helmond/building1/line1/ccSIM\", \"deviceId\": \"WagoCCSIM\", \"timestamp\": \"2025-08-30T21:47:27.764820Z\", \"key\": \"reactive\", \"value\": \"-6.21\"}\n",
      "{\"UNS\": \"iotedger/nld/helmond/building1/line1/ccSIM\", \"deviceId\": \"WagoCCSIM\", \"timestamp\": \"2025-08-30T21:47:28.885209Z\", \"key\": \"voltage\", \"value\": \"231.28\"}\n",
      "{\"UNS\": \"iotedger/nld/helmond/building1/line1/ccSIM\", \"deviceId\": \"WagoCCSIM\", \"timestamp\": \"2025-08-30T21:47:29.004109Z\", \"key\": \"current\", \"value\": \"0.02\"}\n",
      "{\"UNS\": \"iotedger/nld/helmond/building1/line1/ccSIM\", \"deviceId\": \"WagoCCSIM\", \"timestamp\": \"2025-08-30T21:47:29.123023Z\", \"key\": \"reactive\", \"value\": \"-6.46\"}\n",
      "{\"UNS\": \"iotedger/nld/helmond/building1/line1/ccSIM\", \"deviceId\": \"WagoCCSIM\", \"timestamp\": \"2025-08-30T21:47:30.240214Z\", \"key\": \"voltage\", \"value\": \"230.97\"}\n",
      "{\"UNS\": \"iotedger/nld/helmond/building1/line1/ccSIM\", \"deviceId\": \"WagoCCSIM\", \"timestamp\": \"2025-08-30T21:47:30.357744Z\", \"key\": \"current\", \"value\": \"0.02\"}\n",
      "{\"UNS\": \"iotedger/nld/helmond/building1/line1/ccSIM\", \"deviceId\": \"WagoCCSIM\", \"timestamp\": \"2025-08-30T21:47:30.476558Z\", \"key\": \"reactive\", \"value\": \"-6.0\"}\n",
      "{\"UNS\": \"iotedger/nld/helmond/building1/line1/ccSIM\", \"deviceId\": \"WagoCCSIM\", \"timestamp\": \"2025-08-30T21:47:31.596186Z\", \"key\": \"voltage\", \"value\": \"228.67\"}\n",
      "{\"UNS\": \"iotedger/nld/helmond/building1/line1/ccSIM\", \"deviceId\": \"WagoCCSIM\", \"timestamp\": \"2025-08-30T21:47:31.718156Z\", \"key\": \"current\", \"value\": \"0.02\"}\n",
      "{\"UNS\": \"iotedger/nld/helmond/building1/line1/ccSIM\", \"deviceId\": \"WagoCCSIM\", \"timestamp\": \"2025-08-30T21:47:31.835007Z\", \"key\": \"reactive\", \"value\": \"-5.93\"}\n",
      "{\"UNS\": \"iotedger/nld/helmond/building1/line1/ccSIM\", \"deviceId\": \"WagoCCSIM\", \"timestamp\": \"2025-08-30T21:47:32.967623Z\", \"key\": \"voltage\", \"value\": \"232.04\"}\n",
      "{\"UNS\": \"iotedger/nld/helmond/building1/line1/ccSIM\", \"deviceId\": \"WagoCCSIM\", \"timestamp\": \"2025-08-30T21:47:33.087224Z\", \"key\": \"current\", \"value\": \"0.02\"}\n",
      "{\"UNS\": \"iotedger/nld/helmond/building1/line1/ccSIM\", \"deviceId\": \"WagoCCSIM\", \"timestamp\": \"2025-08-30T21:47:33.204452Z\", \"key\": \"reactive\", \"value\": \"-5.54\"}\n",
      "{\"UNS\": \"iotedger/nld/helmond/building1/line1/ccSIM\", \"deviceId\": \"WagoCCSIM\", \"timestamp\": \"2025-08-30T21:47:34.321845Z\", \"key\": \"voltage\", \"value\": \"234.01\"}\n",
      "{\"UNS\": \"iotedger/nld/helmond/building1/line1/ccSIM\", \"deviceId\": \"WagoCCSIM\", \"timestamp\": \"2025-08-30T21:47:34.440924Z\", \"key\": \"current\", \"value\": \"0.02\"}\n",
      "{\"UNS\": \"iotedger/nld/helmond/building1/line1/ccSIM\", \"deviceId\": \"WagoCCSIM\", \"timestamp\": \"2025-08-30T21:47:34.560974Z\", \"key\": \"reactive\", \"value\": \"-6.07\"}\n",
      "{\"UNS\": \"iotedger/nld/helmond/building1/line1/ccSIM\", \"deviceId\": \"WagoCCSIM\", \"timestamp\": \"2025-08-30T21:47:35.678035Z\", \"key\": \"voltage\", \"value\": \"226.03\"}\n",
      "{\"UNS\": \"iotedger/nld/helmond/building1/line1/ccSIM\", \"deviceId\": \"WagoCCSIM\", \"timestamp\": \"2025-08-30T21:47:35.795280Z\", \"key\": \"current\", \"value\": \"0.02\"}\n",
      "{\"UNS\": \"iotedger/nld/helmond/building1/line1/ccSIM\", \"deviceId\": \"WagoCCSIM\", \"timestamp\": \"2025-08-30T21:47:35.916268Z\", \"key\": \"reactive\", \"value\": \"-5.73\"}\n",
      "{\"UNS\": \"iotedger/nld/helmond/building1/line1/ccSIM\", \"deviceId\": \"WagoCCSIM\", \"timestamp\": \"2025-08-30T21:47:37.035258Z\", \"key\": \"voltage\", \"value\": \"234.11\"}\n",
      "{\"UNS\": \"iotedger/nld/helmond/building1/line1/ccSIM\", \"deviceId\": \"WagoCCSIM\", \"timestamp\": \"2025-08-30T21:47:37.152060Z\", \"key\": \"current\", \"value\": \"0.02\"}\n",
      "{\"UNS\": \"iotedger/nld/helmond/building1/line1/ccSIM\", \"deviceId\": \"WagoCCSIM\", \"timestamp\": \"2025-08-30T21:47:37.279478Z\", \"key\": \"reactive\", \"value\": \"-6.04\"}\n",
      "{\"UNS\": \"iotedger/nld/helmond/building1/line1/ccSIM\", \"deviceId\": \"WagoCCSIM\", \"timestamp\": \"2025-08-30T21:47:38.398467Z\", \"key\": \"voltage\", \"value\": \"228.68\"}\n",
      "{\"UNS\": \"iotedger/nld/helmond/building1/line1/ccSIM\", \"deviceId\": \"WagoCCSIM\", \"timestamp\": \"2025-08-30T21:47:38.517282Z\", \"key\": \"current\", \"value\": \"0.02\"}\n",
      "{\"UNS\": \"iotedger/nld/helmond/building1/line1/ccSIM\", \"deviceId\": \"WagoCCSIM\", \"timestamp\": \"2025-08-30T21:47:38.634282Z\", \"key\": \"reactive\", \"value\": \"-5.76\"}\n",
      "{\"UNS\": \"iotedger/nld/helmond/building1/line1/ccSIM\", \"deviceId\": \"WagoCCSIM\", \"timestamp\": \"2025-08-30T21:47:39.755846Z\", \"key\": \"voltage\", \"value\": \"232.49\"}\n",
      "{\"UNS\": \"iotedger/nld/helmond/building1/line1/ccSIM\", \"deviceId\": \"WagoCCSIM\", \"timestamp\": \"2025-08-30T21:47:39.876644Z\", \"key\": \"current\", \"value\": \"0.02\"}\n",
      "{\"UNS\": \"iotedger/nld/helmond/building1/line1/ccSIM\", \"deviceId\": \"WagoCCSIM\", \"timestamp\": \"2025-08-30T21:47:39.996762Z\", \"key\": \"reactive\", \"value\": \"-6.15\"}\n",
      "{\"UNS\": \"iotedger/nld/helmond/building1/line1/ccSIM\", \"deviceId\": \"WagoCCSIM\", \"timestamp\": \"2025-08-30T21:47:41.113823Z\", \"key\": \"voltage\", \"value\": \"225.96\"}\n",
      "{\"UNS\": \"iotedger/nld/helmond/building1/line1/ccSIM\", \"deviceId\": \"WagoCCSIM\", \"timestamp\": \"2025-08-30T21:47:41.231686Z\", \"key\": \"current\", \"value\": \"0.02\"}\n",
      "{\"UNS\": \"iotedger/nld/helmond/building1/line1/ccSIM\", \"deviceId\": \"WagoCCSIM\", \"timestamp\": \"2025-08-30T21:47:41.353249Z\", \"key\": \"reactive\", \"value\": \"-5.5\"}\n",
      "{\"UNS\": \"iotedger/nld/helmond/building1/line1/ccSIM\", \"deviceId\": \"WagoCCSIM\", \"timestamp\": \"2025-08-30T21:47:42.472472Z\", \"key\": \"voltage\", \"value\": \"231.11\"}\n",
      "{\"UNS\": \"iotedger/nld/helmond/building1/line1/ccSIM\", \"deviceId\": \"WagoCCSIM\", \"timestamp\": \"2025-08-30T21:47:42.640033Z\", \"key\": \"current\", \"value\": \"0.02\"}\n",
      "{\"UNS\": \"iotedger/nld/helmond/building1/line1/ccSIM\", \"deviceId\": \"WagoCCSIM\", \"timestamp\": \"2025-08-30T21:47:42.757137Z\", \"key\": \"reactive\", \"value\": \"-6.36\"}\n",
      "{\"UNS\": \"iotedger/nld/helmond/building1/line1/ccSIM\", \"deviceId\": \"WagoCCSIM\", \"timestamp\": \"2025-08-30T21:47:43.876058Z\", \"key\": \"voltage\", \"value\": \"229.81\"}\n",
      "{\"UNS\": \"iotedger/nld/helmond/building1/line1/ccSIM\", \"deviceId\": \"WagoCCSIM\", \"timestamp\": \"2025-08-30T21:47:43.995178Z\", \"key\": \"current\", \"value\": \"0.02\"}\n",
      "{\"UNS\": \"iotedger/nld/helmond/building1/line1/ccSIM\", \"deviceId\": \"WagoCCSIM\", \"timestamp\": \"2025-08-30T21:47:44.112338Z\", \"key\": \"reactive\", \"value\": \"-6.41\"}\n",
      "{\"UNS\": \"iotedger/nld/helmond/building1/line1/ccSIM\", \"deviceId\": \"WagoCCSIM\", \"timestamp\": \"2025-08-30T21:47:45.229632Z\", \"key\": \"voltage\", \"value\": \"229.09\"}\n",
      "{\"UNS\": \"iotedger/nld/helmond/building1/line1/ccSIM\", \"deviceId\": \"WagoCCSIM\", \"timestamp\": \"2025-08-30T21:47:45.353574Z\", \"key\": \"current\", \"value\": \"0.02\"}\n",
      "{\"UNS\": \"iotedger/nld/helmond/building1/line1/ccSIM\", \"deviceId\": \"WagoCCSIM\", \"timestamp\": \"2025-08-30T21:47:45.472671Z\", \"key\": \"reactive\", \"value\": \"-6.16\"}\n",
      "{\"UNS\": \"iotedger/nld/helmond/building1/line1/ccSIM\", \"deviceId\": \"WagoCCSIM\", \"timestamp\": \"2025-08-30T21:47:46.590892Z\", \"key\": \"voltage\", \"value\": \"229.36\"}\n",
      "{\"UNS\": \"iotedger/nld/helmond/building1/line1/ccSIM\", \"deviceId\": \"WagoCCSIM\", \"timestamp\": \"2025-08-30T21:47:46.708410Z\", \"key\": \"current\", \"value\": \"0.02\"}\n",
      "{\"UNS\": \"iotedger/nld/helmond/building1/line1/ccSIM\", \"deviceId\": \"WagoCCSIM\", \"timestamp\": \"2025-08-30T21:47:46.827368Z\", \"key\": \"reactive\", \"value\": \"-6.25\"}\n",
      "{\"UNS\": \"iotedger/nld/helmond/building1/line1/ccSIM\", \"deviceId\": \"WagoCCSIM\", \"timestamp\": \"2025-08-30T21:47:47.946259Z\", \"key\": \"voltage\", \"value\": \"234.69\"}\n",
      "{\"UNS\": \"iotedger/nld/helmond/building1/line1/ccSIM\", \"deviceId\": \"WagoCCSIM\", \"timestamp\": \"2025-08-30T21:47:48.065987Z\", \"key\": \"current\", \"value\": \"0.02\"}\n",
      "{\"UNS\": \"iotedger/nld/helmond/building1/line1/ccSIM\", \"deviceId\": \"WagoCCSIM\", \"timestamp\": \"2025-08-30T21:47:48.186555Z\", \"key\": \"reactive\", \"value\": \"-5.98\"}\n",
      "{\"UNS\": \"iotedger/nld/helmond/building1/line1/ccSIM\", \"deviceId\": \"WagoCCSIM\", \"timestamp\": \"2025-08-30T21:47:49.305794Z\", \"key\": \"voltage\", \"value\": \"227.21\"}\n",
      "{\"UNS\": \"iotedger/nld/helmond/building1/line1/ccSIM\", \"deviceId\": \"WagoCCSIM\", \"timestamp\": \"2025-08-30T21:47:49.424896Z\", \"key\": \"current\", \"value\": \"0.02\"}\n",
      "{\"UNS\": \"iotedger/nld/helmond/building1/line1/ccSIM\", \"deviceId\": \"WagoCCSIM\", \"timestamp\": \"2025-08-30T21:47:49.541812Z\", \"key\": \"reactive\", \"value\": \"-5.84\"}\n",
      "{\"UNS\": \"iotedger/nld/helmond/building1/line1/ccSIM\", \"deviceId\": \"WagoCCSIM\", \"timestamp\": \"2025-08-30T21:47:50.660513Z\", \"key\": \"voltage\", \"value\": \"228.44\"}\n",
      "{\"UNS\": \"iotedger/nld/helmond/building1/line1/ccSIM\", \"deviceId\": \"WagoCCSIM\", \"timestamp\": \"2025-08-30T21:47:50.779737Z\", \"key\": \"current\", \"value\": \"0.02\"}\n",
      "{\"UNS\": \"iotedger/nld/helmond/building1/line1/ccSIM\", \"deviceId\": \"WagoCCSIM\", \"timestamp\": \"2025-08-30T21:47:50.899712Z\", \"key\": \"reactive\", \"value\": \"-5.52\"}\n"
     ]
    }
   ],
   "source": [
    "import datetime\n",
    "print(datetime.datetime.now())\n",
    "generateEvents()\n",
    "print(datetime.datetime.now())"
   ]
  }
 ],
 "metadata": {
  "dependencies": {},
  "kernel_info": {
   "name": "synapse_pyspark"
  },
  "kernelspec": {
   "display_name": "Synapse PySpark",
   "language": "Python",
   "name": "synapse_pyspark"
  },
  "language_info": {
   "name": "python"
  },
  "microsoft": {
   "language": "python",
   "language_group": "synapse_pyspark",
   "ms_spell_check": {
    "ms_spell_check_language": "en"
   }
  },
  "nteract": {
   "version": "nteract-front-end@1.0.0"
  },
  "spark_compute": {
   "compute_id": "/trident/default",
   "session_options": {
    "conf": {
     "spark.synapse.nbs.session.timeout": "1200000"
    }
   }
  }
 },
 "nbformat": 4,
 "nbformat_minor": 5
}
